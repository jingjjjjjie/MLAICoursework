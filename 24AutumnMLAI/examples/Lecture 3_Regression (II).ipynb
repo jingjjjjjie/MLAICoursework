{
 "cells": [
  {
   "cell_type": "markdown",
   "metadata": {},
   "source": [
    "# Lecture 3 Regressions\n"
   ]
  },
  {
   "cell_type": "code",
   "execution_count": 1,
   "metadata": {},
   "outputs": [],
   "source": [
    "%matplotlib inline \n",
    "# import necessary libraries and specify that graphs should be plotted inline\n",
    "import numpy as np\n",
    "import pandas as pd\n",
    "import sklearn\n",
    "import mglearn\n",
    "import matplotlib.pyplot as plt\n",
    "\n",
    "import warnings\n",
    "warnings.filterwarnings('ignore')"
   ]
  },
  {
   "cell_type": "markdown",
   "metadata": {},
   "source": [
    "## Advanced Regression\n"
   ]
  },
  {
   "cell_type": "code",
   "execution_count": 2,
   "metadata": {},
   "outputs": [],
   "source": [
    "from sklearn.model_selection import train_test_split\n",
    "X, y = mglearn.datasets.make_wave(n_samples=60)\n",
    "X_train, X_test, y_train, y_test = train_test_split(X, y, random_state=42)"
   ]
  },
  {
   "cell_type": "markdown",
   "metadata": {},
   "source": [
    "### Polynomial Regression\n",
    "\n"
   ]
  },
  {
   "cell_type": "code",
   "execution_count": 3,
   "metadata": {},
   "outputs": [
    {
     "name": "stdout",
     "output_type": "stream",
     "text": [
      "train score:  0.7366477110211134\n",
      "test score:  0.7475874000113646\n",
      "Best parameters:  {'polynomialfeatures__degree': 4}\n"
     ]
    }
   ],
   "source": [
    "from sklearn.model_selection import GridSearchCV\n",
    "from sklearn.preprocessing  import PolynomialFeatures\n",
    "from sklearn.pipeline import make_pipeline\n",
    "from sklearn.linear_model import LinearRegression\n",
    "\n",
    "poly = PolynomialFeatures()\n",
    "#define a list of parameters\n",
    "param_poly = {'polynomialfeatures__degree':range(1,5)}\n",
    "\n",
    "#apply polynomial regression in pipeline\n",
    "pipe_poly = make_pipeline(PolynomialFeatures(), LinearRegression())\n",
    "grid_poly = GridSearchCV(pipe_poly, param_poly,cv=5, n_jobs=-1, return_train_score = True)\n",
    "\n",
    "\n",
    "grid_poly.fit(X_train, y_train)\n",
    "\n",
    "grid_poly_train_score = grid_poly.score(X_train, y_train)\n",
    "grid_poly_test_score = grid_poly.score(X_test, y_test)\n",
    "\n",
    "print('train score: ', grid_poly_train_score)\n",
    "print('test score: ', grid_poly_test_score)\n",
    "\n",
    "#find best parameters\n",
    "print('Best parameters: ', grid_poly.best_params_)"
   ]
  },
  {
   "cell_type": "code",
   "execution_count": 4,
   "metadata": {},
   "outputs": [
    {
     "name": "stdout",
     "output_type": "stream",
     "text": [
      "Training set MSE score 0.20428901086840767\n",
      "Test set MSE score 0.2924564533054176\n",
      "Training set MAE score 0.36374762075965594\n",
      "Test set MAE score 0.42485671006472187\n"
     ]
    }
   ],
   "source": [
    "#predictions using polynomial regression\n",
    "y_poly_train_predict = grid_poly.predict(X_train)\n",
    "y_poly_predict = grid_poly.predict(X_test)\n",
    "\n",
    "#MSE and MAE\n",
    "from sklearn.metrics import mean_squared_error as mse\n",
    "from sklearn.metrics import mean_absolute_error as mae\n",
    "\n",
    "print('Training set MSE score', mse(y_poly_train_predict,y_train))\n",
    "print('Test set MSE score',mse(y_poly_predict,y_test) )\n",
    "\n",
    "print('Training set MAE score',mae(y_poly_train_predict,y_train))\n",
    "print('Test set MAE score', mae(y_poly_predict,y_test))"
   ]
  },
  {
   "cell_type": "markdown",
   "metadata": {},
   "source": [
    "### Ridge Regression"
   ]
  },
  {
   "cell_type": "code",
   "execution_count": 5,
   "metadata": {},
   "outputs": [
    {
     "name": "stdout",
     "output_type": "stream",
     "text": [
      "Training set score: 0.89\n",
      "Test set score: 0.75\n"
     ]
    }
   ],
   "source": [
    "from sklearn.linear_model import Ridge\n",
    "\n",
    "X, y = mglearn.datasets.load_extended_boston()\n",
    "\n",
    "X_train, X_test, y_train, y_test = train_test_split(X, y, random_state=0)\n",
    "\n",
    "ridge = Ridge().fit(X_train, y_train)\n",
    "print(\"Training set score: {:.2f}\".format(ridge.score(X_train, y_train)))\n",
    "print(\"Test set score: {:.2f}\".format(ridge.score(X_test, y_test)))"
   ]
  },
  {
   "cell_type": "code",
   "execution_count": 6,
   "metadata": {},
   "outputs": [
    {
     "name": "stdout",
     "output_type": "stream",
     "text": [
      "Training set score:  0.928227368500198\n",
      "Test set score:  0.772206793648016\n",
      "best parameters: {'alpha': 0.1}\n",
      "Best cross-validation score: 0.848452166752413\n"
     ]
    }
   ],
   "source": [
    "ridge = Ridge()\n",
    "\n",
    "#define a list of parameters\n",
    "param_ridge = {'alpha':[0.001, 0.01, 0.1, 1, 10, 100] }\n",
    "\n",
    "grid_ridge = GridSearchCV(ridge, param_ridge, cv=5, return_train_score = True)\n",
    "grid_ridge.fit(X_train, y_train)\n",
    "\n",
    "grid_ridge_train_score = grid_ridge.score(X_train, y_train)\n",
    "grid_ridge_test_score = grid_ridge.score(X_test, y_test)\n",
    "\n",
    "print('Training set score: ', grid_ridge_train_score)\n",
    "print('Test set score: ', grid_ridge_test_score)\n",
    "\n",
    "#find best parameters\n",
    "print('best parameters:',grid_ridge.best_params_)\n",
    "print('Best cross-validation score:', grid_ridge.best_score_)"
   ]
  },
  {
   "cell_type": "markdown",
   "metadata": {},
   "source": [
    "### Lasso"
   ]
  },
  {
   "cell_type": "code",
   "execution_count": 7,
   "metadata": {
    "scrolled": true
   },
   "outputs": [
    {
     "name": "stdout",
     "output_type": "stream",
     "text": [
      "Training set score: 0.29\n",
      "Test set score: 0.21\n"
     ]
    }
   ],
   "source": [
    "from sklearn.linear_model import Lasso\n",
    "\n",
    "lasso = Lasso().fit(X_train, y_train)\n",
    "print(\"Training set score: {:.2f}\".format(lasso.score(X_train, y_train)))\n",
    "print(\"Test set score: {:.2f}\".format(lasso.score(X_test, y_test)))"
   ]
  },
  {
   "cell_type": "code",
   "execution_count": 8,
   "metadata": {},
   "outputs": [
    {
     "name": "stdout",
     "output_type": "stream",
     "text": [
      "Training set score:  0.9354593864534091\n",
      "Test score:  0.7547974360305012\n",
      "Best parameters:  {'alpha': 0.001}\n",
      "Best cross-validation score: 0.8248531922293164\n"
     ]
    }
   ],
   "source": [
    "lasso = Lasso()\n",
    "\n",
    "#define a list of parameters\n",
    "param_lasso = {'alpha':[0.00001, 0.0001, 0.001, 0.01, 0.1, 1, 10] }\n",
    "\n",
    "grid_lasso = GridSearchCV(lasso, param_lasso, cv=5, return_train_score = True)\n",
    "grid_lasso.fit(X_train, y_train)\n",
    "\n",
    "grid_lasso_train_score = grid_lasso.score(X_train, y_train)\n",
    "grid_lasso_test_score = grid_lasso.score(X_test, y_test)\n",
    "\n",
    "print('Training set score: ', grid_lasso_train_score)\n",
    "print('Test score: ', grid_lasso_test_score)\n",
    "\n",
    "#find best parameters\n",
    "print('Best parameters: ', grid_lasso.best_params_)\n",
    "print('Best cross-validation score:', grid_lasso.best_score_)"
   ]
  }
 ],
 "metadata": {
  "kernelspec": {
   "display_name": "Python 3",
   "language": "python",
   "name": "python3"
  },
  "language_info": {
   "codemirror_mode": {
    "name": "ipython",
    "version": 3
   },
   "file_extension": ".py",
   "mimetype": "text/x-python",
   "name": "python",
   "nbconvert_exporter": "python",
   "pygments_lexer": "ipython3",
   "version": "3.8.8"
  }
 },
 "nbformat": 4,
 "nbformat_minor": 2
}
